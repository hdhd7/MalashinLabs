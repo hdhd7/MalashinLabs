{
  "nbformat": 4,
  "nbformat_minor": 0,
  "metadata": {
    "colab": {
      "provenance": [],
      "authorship_tag": "ABX9TyNokrB8+n8+Dd2MWe7YGDit",
      "include_colab_link": true
    },
    "kernelspec": {
      "name": "python3",
      "display_name": "Python 3"
    },
    "language_info": {
      "name": "python"
    }
  },
  "cells": [
    {
      "cell_type": "markdown",
      "metadata": {
        "id": "view-in-github",
        "colab_type": "text"
      },
      "source": [
        "<a href=\"https://colab.research.google.com/github/hdhd7/MalashinLabs/blob/main/lab2.ipynb\" target=\"_parent\"><img src=\"https://colab.research.google.com/assets/colab-badge.svg\" alt=\"Open In Colab\"/></a>"
      ]
    },
    {
      "cell_type": "code",
      "execution_count": 1,
      "metadata": {
        "colab": {
          "base_uri": "https://localhost:8080/"
        },
        "id": "1woT3Gw6Bb9O",
        "outputId": "fbc63c03-cd79-4d96-f48d-99266b7c7829"
      },
      "outputs": [
        {
          "output_type": "stream",
          "name": "stdout",
          "text": [
            "Матрица коэффициентов:\n",
            "[[ 3.  5.  8.]\n",
            " [ 4.  7.  5.]\n",
            " [ 1.  9. 10.]]\n",
            "Вектор правых частей:\n",
            "[16. 16. 20.]\n",
            "Решения системы уравнений матричным методом: [1. 1. 1.]\n",
            "Решения при помощи метода простых итераций: [1.00000077 0.99999998 0.99999994]\n"
          ]
        }
      ],
      "source": [
        "import numpy as np\n",
        "\n",
        "# Метод простых итераций\n",
        "def iterations(matrix, b, max_iter=1000, tol=1e-6):\n",
        "    matrix = np.array(matrix, dtype=float)\n",
        "    b = np.array(b, dtype=float)\n",
        "    n = len(matrix)\n",
        "    x = np.zeros(n)  # начальные значения X\n",
        "\n",
        "    for k in range(max_iter):\n",
        "        x_new = np.copy(x)\n",
        "        for i in range(n):\n",
        "            s1 = sum(matrix[i][j] * x_new[j] for j in range(i))\n",
        "            s2 = sum(matrix[i][j] * x[j] for j in range(i + 1, n))\n",
        "            x_new[i] = (b[i] - s1 - s2) / matrix[i][i]\n",
        "\n",
        "        if np.linalg.norm(x_new - x, ord=np.inf) < tol:\n",
        "            return (x_new, 0)  # достигнута необходимая точность\n",
        "        x = x_new\n",
        "    return (x, 1)  # не достигнута необходимая точность\n",
        "\n",
        "# Метод решения системы уравнений с использованием матричного метода (метод Гаусса)\n",
        "def solve(matrix, b):\n",
        "    matrix = np.array(matrix, dtype=float)\n",
        "    b = np.array(b, dtype=float)\n",
        "    try:\n",
        "        solutions = np.linalg.solve(matrix, b)\n",
        "        return solutions\n",
        "    except np.linalg.LinAlgError:\n",
        "        return None\n",
        "\n",
        "# Чтение данных из файла\n",
        "matrix = []\n",
        "b = []\n",
        "with open('input_lab2.txt', 'r') as file:\n",
        "    for line in file:\n",
        "        row = [float(x) for x in line.split()]\n",
        "        matrix.append(row[:-1])\n",
        "        b.append(row[-1])\n",
        "\n",
        "print(\"Матрица коэффициентов:\")\n",
        "print(np.array(matrix))\n",
        "print(\"Вектор правых частей:\")\n",
        "print(np.array(b))\n",
        "\n",
        "# Решение с помощью матричного метода\n",
        "solutions = solve(matrix, b)\n",
        "# Решение с помощью метода простых итераций\n",
        "solutions2 = iterations(matrix, b)\n",
        "\n",
        "print(\"Решения системы уравнений матричным методом:\", solutions)\n",
        "if solutions2[1] == 0:\n",
        "    print(\"Решения при помощи метода простых итераций:\", solutions2[0])\n",
        "else:\n",
        "    print(\"Метод простых итераций не сошёлся, полученные корни:\", solutions2[0])"
      ]
    }
  ]
}