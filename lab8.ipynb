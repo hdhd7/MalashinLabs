{
  "nbformat": 4,
  "nbformat_minor": 0,
  "metadata": {
    "colab": {
      "provenance": [],
      "authorship_tag": "ABX9TyP8qh4/XPernsGjajXi9RWr",
      "include_colab_link": true
    },
    "kernelspec": {
      "name": "python3",
      "display_name": "Python 3"
    },
    "language_info": {
      "name": "python"
    }
  },
  "cells": [
    {
      "cell_type": "markdown",
      "metadata": {
        "id": "view-in-github",
        "colab_type": "text"
      },
      "source": [
        "<a href=\"https://colab.research.google.com/github/hdhd7/MalashinLabs/blob/main/lab8.ipynb\" target=\"_parent\"><img src=\"https://colab.research.google.com/assets/colab-badge.svg\" alt=\"Open In Colab\"/></a>"
      ]
    },
    {
      "cell_type": "code",
      "execution_count": 2,
      "metadata": {
        "colab": {
          "base_uri": "https://localhost:8080/"
        },
        "id": "zdckq6C7O9Me",
        "outputId": "bdc74fb9-5ca3-4647-dbea-38ccc82d0158"
      },
      "outputs": [
        {
          "output_type": "stream",
          "name": "stdout",
          "text": [
            "Метод трапеций: 0.0000009438331850\n",
            "Метод Симпсона: 0.0000009438904430\n",
            "Метод прямоугольников: 0.0000009439190722\n",
            "Точное значение через scipy: 0.0000009438904431\n"
          ]
        }
      ],
      "source": [
        "import random\n",
        "from scipy import integrate\n",
        "import math\n",
        "\n",
        "def function(x):\n",
        "    return math.exp(-x) * math.sin(x) #f(x) = e^(-x) * sin(x)\n",
        "\n",
        "a, b = random.randrange(1, 45), random.randrange(1, 45)\n",
        "n = 1000 #количество подинтервалов\n",
        "\n",
        "#Метод трапеций\n",
        "def trap(f, a, b, n):\n",
        "    h = (b - a) / n\n",
        "    x = (f(a) + f(b)) / 2 #значения функции вычисляются на концах подинтервалов\n",
        "    for i in range(1, n):\n",
        "        x += f(a + i * h)\n",
        "    x *= h\n",
        "    return x\n",
        "\n",
        "res = trap(function, a, b, n)\n",
        "\n",
        "#Метод Симпсона\n",
        "def simpson(f, a, b, n):\n",
        "    h = (b - a) / n #шаг разбиения интервала(какой длине равен каждый отрезок)\n",
        "    x = f(a) + f(b) #приближенное значение интеграла на основе крайних точек а и б\n",
        "    for i in range(1, n, 2):\n",
        "        x += 4 * f(a + i * h) #используется вес 4 для каждого нечетного подинтервала\n",
        "    for i in range(2, n - 1, 2):\n",
        "        x += 2 * f(a + i * h) #используется вес 2 для каждого четного подинтервала (значение функции умножается на соответствующие\n",
        "                              #веса и добавляются к общей сумме - х)\n",
        "    x *= h / 3 #h|3 для получения приближенного значения интеграла (более точно)\n",
        "    return x #приближенное значение интеграла\n",
        "\n",
        "res1 = simpson(function, a, b, n)\n",
        "\n",
        "#Метод прямоугольников\n",
        "def rect(f, a, b, n):\n",
        "    h = (b - a) / n\n",
        "    s = 0 #инициализация суммы как 0\n",
        "    for i in range(n):\n",
        "        s += f(a + i * h + h / 2) #добавление значения функции в середине подинтервала к сумме\n",
        "    return s * h #возвращение площади под кривой, умноженной на ширину подинтервала\n",
        "\n",
        "res2 = rect(function, a, b, n)\n",
        "\n",
        "#Вычисление интеграла с помощью scipy для сравнения\n",
        "exact, _ = integrate.quad(function, a, b)\n",
        "\n",
        "# Вывод результатов (с округлением до 16 знаков после запятой, чтобы избавиться от -е^n степени)\n",
        "print(\"Метод трапеций: {:.16f}\".format(res))\n",
        "print(\"Метод Симпсона: {:.16f}\".format(res1))\n",
        "print(\"Метод прямоугольников: {:.16f}\".format(res2))\n",
        "print(\"Точное значение через scipy: {:.16f}\".format(exact))"
      ]
    }
  ]
}