{
  "nbformat": 4,
  "nbformat_minor": 0,
  "metadata": {
    "colab": {
      "provenance": [],
      "authorship_tag": "ABX9TyNDlYdcladlKtuTLGOt8rrN",
      "include_colab_link": true
    },
    "kernelspec": {
      "name": "python3",
      "display_name": "Python 3"
    },
    "language_info": {
      "name": "python"
    }
  },
  "cells": [
    {
      "cell_type": "markdown",
      "metadata": {
        "id": "view-in-github",
        "colab_type": "text"
      },
      "source": [
        "<a href=\"https://colab.research.google.com/github/hdhd7/MalashinLabs/blob/main/lab9.ipynb\" target=\"_parent\"><img src=\"https://colab.research.google.com/assets/colab-badge.svg\" alt=\"Open In Colab\"/></a>"
      ]
    },
    {
      "cell_type": "code",
      "execution_count": 1,
      "metadata": {
        "colab": {
          "base_uri": "https://localhost:8080/"
        },
        "id": "9r__toDMPrEX",
        "outputId": "b42c544b-43a4-49ec-b607-44871d951c16"
      },
      "outputs": [
        {
          "output_type": "stream",
          "name": "stdout",
          "text": [
            "Среднее время ожидания в очереди: 35.00\n",
            "Среднее время ожидания в системе: 149.63\n",
            "Средняя длина очереди: 874.57\n",
            "Загрузка системы: 87.60\n",
            "Вероятность, что оба сервера заняты: 0.34\n",
            "Вероятность, что один сервер свободен: 0.41\n",
            "Вероятность, что оба сервера свободны: 0.25\n"
          ]
        }
      ],
      "source": [
        "import random\n",
        "import math\n",
        "\n",
        "class MonteCarloMassServiceSystem:\n",
        "    def __init__(self):\n",
        "        self.servers = [True, True]  #серверы: свободен или занят\n",
        "        self.queue = []  #очередь клиентов\n",
        "        self.customer_count = 0  #общее количество клиентов\n",
        "        self.total_service_time = 0  #общее время обслуживания\n",
        "        self.total_queue_wait_time = 0  #общее время ожидания в очереди\n",
        "        self.total_system_wait_time = 0  #общее время ожидания в системе\n",
        "        self.total_queue_length = 0  #общая длина очереди\n",
        "        self.simulation_time = 1000  #время симуляции\n",
        "        self.current_time = 0  #внутренние часы симуляции\n",
        "        self.server_utilization = [0, 0]  #загрузка серверов\n",
        "\n",
        "    def simulate(self, lambda_, mu):\n",
        "        #основной метод симуляции системы массового обслуживания\n",
        "        while self.current_time < self.simulation_time:\n",
        "            self.current_time += 1  #увеличиваем текущее время на 1\n",
        "\n",
        "            #поступление новых клиентов\n",
        "            self.generate_customers(lambda_)\n",
        "\n",
        "            #обработка клиентов серверами\n",
        "            self.process_servers(mu)\n",
        "\n",
        "            #проверка занятости серверов и увеличение времени в системе\n",
        "            if self.queue and not any(self.servers):\n",
        "                self.total_system_wait_time += self.current_time - self.queue[0]  #если оба сервера заняты\n",
        "\n",
        "            #освобождение серверов\n",
        "            self.release_servers()\n",
        "\n",
        "        #вывод результатов\n",
        "        self.print_results(lambda_, mu)\n",
        "\n",
        "    def generate_customers(self, arrival_rate):\n",
        "        #генерация новых клиентов и добавление их в очередь\n",
        "        for _ in range(arrival_rate):\n",
        "            self.queue.append(self.current_time)  #клиент поступает в очередь\n",
        "            self.customer_count += 1  #увеличиваем счетчик клиентов\n",
        "\n",
        "    def process_servers(self, service_rate):\n",
        "        #обработка клиентов серверами, если они свободны\n",
        "        for i in range(2):\n",
        "            if self.servers[i] and self.queue:\n",
        "                customer_arrival_time = self.queue.pop(0)  #извлечение клиента из очереди\n",
        "                service_time = 1 / service_rate  #время обслуживания клиента\n",
        "                self.total_service_time += service_time  #добавляем время обслуживания\n",
        "\n",
        "                #обработка времени ожидания клиента в очереди и системе\n",
        "                if self.queue:\n",
        "                    self.total_queue_wait_time += self.current_time - self.queue[0]  #время ожидания в очереди\n",
        "                    self.total_system_wait_time += self.current_time - self.queue[0]  #время в системе\n",
        "\n",
        "                self.servers[i] = False  #занять сервер\n",
        "                self.server_utilization[i] += service_time + (self.current_time - customer_arrival_time)  #учет загрузки сервера\n",
        "\n",
        "                #увеличиваем общее время ожидания в системе, если клиент ожидает долго\n",
        "                if random.random() < 0.6:\n",
        "                    self.total_system_wait_time += self.current_time - customer_arrival_time\n",
        "\n",
        "    def release_servers(self):\n",
        "        #освобождение серверов с вероятностью\n",
        "        for i in range(2):\n",
        "            if not self.servers[i]:\n",
        "                if random.random() < 0.2:  #вероятность освобождения сервера\n",
        "                    self.servers[i] = True  #освобождаем сервер\n",
        "                    self.total_queue_length += len(self.queue)  #учитываем длину очереди\n",
        "\n",
        "    def calculate_probabilities(self, lambda_, mu):\n",
        "        #вычисление вероятностей состояний системы с учетом λ и μ\n",
        "        rho = lambda_ / (2 * mu)  #коэффициент загрузки одного сервера\n",
        "\n",
        "        #вероятность, что в системе 0 клиентов (оба сервера свободны)\n",
        "        P0 = 1 / (1 + (lambda_ / mu) + (lambda_ ** 2) / (2 * mu ** 2))\n",
        "\n",
        "        #вероятность, что в системе 1 клиент (один сервер свободен)\n",
        "        P1 = (lambda_ / mu) / (1 + (lambda_ / mu) + (lambda_ ** 2) / (2 * mu ** 2))\n",
        "\n",
        "        #вероятность, что в системе 2 или более клиентов (оба сервера заняты)\n",
        "        P_busy = 1 - (P0 + P1)\n",
        "\n",
        "        return P0, P1, P_busy\n",
        "\n",
        "    def print_results(self, lambda_, mu):\n",
        "        #вывод результатов симуляции\n",
        "        avg_queue_wait_time = self.total_queue_wait_time / self.customer_count if self.customer_count > 0 else 0  #среднее время ожидания в очереди\n",
        "        avg_system_wait_time = self.total_system_wait_time / self.customer_count if self.customer_count > 0 else 0  #среднее время в системе\n",
        "        avg_queue_length = self.total_queue_length / self.current_time if self.current_time > 0 else 0  #средняя длина очереди\n",
        "        system_utilization = sum(self.server_utilization) / (self.simulation_time * 2)  #загрузка серверов\n",
        "\n",
        "        #вывод средних значений\n",
        "        print(f\"Среднее время ожидания в очереди: {avg_queue_wait_time:.2f}\")\n",
        "        print(f\"Среднее время ожидания в системе: {avg_system_wait_time:.2f}\")\n",
        "        print(f\"Средняя длина очереди: {avg_queue_length:.2f}\")\n",
        "        print(f\"Загрузка системы: {system_utilization:.2f}\")\n",
        "\n",
        "        #вычисление и вывод вероятностей\n",
        "        P0, P1, P_busy = self.calculate_probabilities(lambda_, mu)\n",
        "        print(f\"Вероятность, что оба сервера заняты: {P_busy:.2f}\")\n",
        "        print(f\"Вероятность, что один сервер свободен: {P1:.2f}\")\n",
        "        print(f\"Вероятность, что оба сервера свободны: {P0:.2f}\")\n",
        "\n",
        "#запуск симуляции\n",
        "lambda_ = 5  #интенсивность поступления клиентов (λ)\n",
        "mu = 3  #интенсивность обслуживания (μ)\n",
        "system = MonteCarloMassServiceSystem()\n",
        "system.simulate(lambda_, mu)"
      ]
    }
  ]
}