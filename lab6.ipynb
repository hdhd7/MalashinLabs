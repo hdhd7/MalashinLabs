{
  "nbformat": 4,
  "nbformat_minor": 0,
  "metadata": {
    "colab": {
      "provenance": [],
      "authorship_tag": "ABX9TyNjUwG096T32BcvfPq6jxK9",
      "include_colab_link": true
    },
    "kernelspec": {
      "name": "python3",
      "display_name": "Python 3"
    },
    "language_info": {
      "name": "python"
    }
  },
  "cells": [
    {
      "cell_type": "markdown",
      "metadata": {
        "id": "view-in-github",
        "colab_type": "text"
      },
      "source": [
        "<a href=\"https://colab.research.google.com/github/hdhd7/MalashinLabs/blob/main/lab6.ipynb\" target=\"_parent\"><img src=\"https://colab.research.google.com/assets/colab-badge.svg\" alt=\"Open In Colab\"/></a>"
      ]
    },
    {
      "cell_type": "code",
      "execution_count": 1,
      "metadata": {
        "colab": {
          "base_uri": "https://localhost:8080/"
        },
        "id": "iUwDCMfRHrTR",
        "outputId": "a211acc8-efa2-4c7d-937c-7f7a2369cf48"
      },
      "outputs": [
        {
          "output_type": "stream",
          "name": "stdout",
          "text": [
            "Downloading data from https://storage.googleapis.com/tensorflow/tf-keras-datasets/mnist.npz\n",
            "\u001b[1m11490434/11490434\u001b[0m \u001b[32m━━━━━━━━━━━━━━━━━━━━\u001b[0m\u001b[37m\u001b[0m \u001b[1m0s\u001b[0m 0us/step\n"
          ]
        }
      ],
      "source": [
        "import numpy as np\n",
        "from tensorflow.keras.datasets import mnist\n",
        "\n",
        "#загрузка мниста\n",
        "(x_train, y_train), _ = mnist.load_data()\n",
        "\n",
        "#сохранение данных в файл custom.npz\n",
        "np.savez(\"custom.npz\", x_train=x_train, y_train=y_train)"
      ]
    },
    {
      "cell_type": "code",
      "source": [
        "\"\"\"активация через сигмоиду\"\"\"\n",
        "import numpy as np\n",
        "import matplotlib.pyplot as plt\n",
        "from scipy.special import expit  #сигмоидальная функция\n",
        "\n",
        "#функции активации\n",
        "def sigmoid(x):\n",
        "    return expit(x)  #сигмоидальная функция\n",
        "\n",
        "def sigmoid_derivative(x):\n",
        "    return sigmoid(x) * (1 - sigmoid(x))  #производная для обучения\n",
        "\n",
        "#загрузка данных\n",
        "def load_dataset():\n",
        "    with np.load(\"custom.npz\") as f:\n",
        "        x_train = f[\"x_train\"].astype(\"float32\") / 255  #нормализация данных\n",
        "        x_train = np.reshape(x_train, (x_train.shape[0], -1))  #преобразование в (60000, 784)\n",
        "        y_train = f[\"y_train\"]\n",
        "        y_train = np.eye(10)[y_train]  #преобразование меток в one-hot\n",
        "    return x_train, y_train\n",
        "\n",
        "#нейронная сеть\n",
        "class SimpleNN:\n",
        "    def __init__(self, input_size, hidden_size, output_size, learning_rate=0.001, lambda_reg=0.01):\n",
        "        self.w1 = np.random.randn(hidden_size, input_size) * 0.01  #инициализация с меньшими весами\n",
        "        self.b1 = np.zeros((hidden_size, 1))  #инициализация смещения для первого слоя\n",
        "        self.w2 = np.random.randn(output_size, hidden_size) * 0.01  # Инициализация с меньшими весами\n",
        "        self.b2 = np.zeros((output_size, 1))  #инициализация смещения для второго слоя\n",
        "        self.learning_rate = learning_rate\n",
        "        self.lambda_reg = lambda_reg\n",
        "\n",
        "    def forward(self, x):\n",
        "        self.l1 = np.dot(self.w1, x) + self.b1\n",
        "        self.y = sigmoid(self.l1)  #использование сигмоиды\n",
        "        self.l2 = np.dot(self.w2, self.y) + self.b2\n",
        "        self.out = sigmoid(self.l2)  #использование сигмоиды\n",
        "        return self.out\n",
        "\n",
        "    def backward(self, x, target):\n",
        "        e = self.out - target\n",
        "\n",
        "        delta2 = e * sigmoid_derivative(self.out)  #градиент на выходе\n",
        "        grad_w2 = np.dot(delta2, self.y.T) + self.lambda_reg * self.w2  #градиент для w2\n",
        "        grad_b2 = np.sum(delta2, axis=1, keepdims=True)  #градиент для b2\n",
        "\n",
        "        delta1 = np.dot(self.w2.T, delta2) * sigmoid_derivative(self.y)  #градиент для скрытого слоя\n",
        "        grad_w1 = np.dot(delta1, x.T) + self.lambda_reg * self.w1  #градиент для w1\n",
        "        grad_b1 = np.sum(delta1, axis=1, keepdims=True)  #градиент для b1\n",
        "\n",
        "        #обновление весов и смещений\n",
        "        self.w2 -= self.learning_rate * grad_w2\n",
        "        self.b2 -= self.learning_rate * grad_b2\n",
        "        self.w1 -= self.learning_rate * grad_w1\n",
        "        self.b1 -= self.learning_rate * grad_b1\n",
        "\n",
        "    def train(self, x_train, y_train, epochs=5, batch_size=32):\n",
        "        for epoch in range(epochs):\n",
        "            print(f'Epoch {epoch + 1}/{epochs}')\n",
        "            indices = np.arange(x_train.shape[0])\n",
        "            np.random.shuffle(indices)  #перемешивание данных\n",
        "            for start in range(0, x_train.shape[0], batch_size):\n",
        "                end = min(start + batch_size, x_train.shape[0])\n",
        "                batch_indices = indices[start:end]\n",
        "\n",
        "                for i in batch_indices:\n",
        "                    img = x_train[i].reshape(-1, 1)\n",
        "                    value = y_train[i].reshape(-1, 1)\n",
        "\n",
        "                    self.forward(img)\n",
        "                    self.backward(img, value)\n",
        "\n",
        "input_data, target_data = load_dataset()  #загрузка данных\n",
        "nn = SimpleNN(input_size=784, hidden_size=50, output_size=10)  #инициализация нейронной сети\n",
        "\n",
        "nn.train(input_data, target_data, epochs=5, batch_size=32)\n",
        "\n",
        "#тестирование на случайном изображении\n",
        "i = np.random.randint(0, input_data.shape[0])\n",
        "tempimg = input_data[i]\n",
        "tempvalue = target_data[i]\n",
        "\n",
        "img = tempimg.reshape(-1, 1)\n",
        "out = nn.forward(img)\n",
        "\n",
        "plt.imshow(tempimg.reshape(28, 28), cmap=\"Greys\")\n",
        "plt.title(f'Predicted: {out.argmax()}')\n",
        "plt.show()\n",
        "\n",
        "print(out)"
      ],
      "metadata": {
        "colab": {
          "base_uri": "https://localhost:8080/",
          "height": 712
        },
        "id": "d8GlcEGnHue4",
        "outputId": "6c338e92-b439-426f-def5-1e46e6734050"
      },
      "execution_count": 4,
      "outputs": [
        {
          "output_type": "stream",
          "name": "stdout",
          "text": [
            "Epoch 1/5\n",
            "Epoch 2/5\n",
            "Epoch 3/5\n",
            "Epoch 4/5\n",
            "Epoch 5/5\n"
          ]
        },
        {
          "output_type": "display_data",
          "data": {
            "text/plain": [
              "<Figure size 640x480 with 1 Axes>"
            ],
            "image/png": "[encoded data removed]"
          },
          "metadata": {}
        },
        {
          "output_type": "stream",
          "name": "stdout",
          "text": [
            "[[0.01630918]\n",
            " [0.18721366]\n",
            " [0.05089132]\n",
            " [0.0660876 ]\n",
            " [0.13427791]\n",
            " [0.05833992]\n",
            " [0.0393473 ]\n",
            " [0.23202079]\n",
            " [0.09096498]\n",
            " [0.16143751]]\n"
          ]
        }
      ]
    },
    {
      "cell_type": "code",
      "source": [
        "\"\"\"активация через Relu\"\"\"\n",
        "import numpy as np\n",
        "import matplotlib.pyplot as plt\n",
        "\n",
        "# Функции активации\n",
        "def relu(x):\n",
        "    return np.maximum(0, x)\n",
        "\n",
        "def drelu(x):\n",
        "    return np.where(x > 0, 1, 0)\n",
        "\n",
        "# Загрузка данных\n",
        "def load_dataset():\n",
        "    with np.load(\"custom.npz\") as f:\n",
        "        x_train = f[\"x_train\"].astype(\"float32\") / 255  # Нормализация данных\n",
        "        x_train = np.reshape(x_train, (x_train.shape[0], -1))\n",
        "        y_train = f[\"y_train\"]\n",
        "        y_train = np.eye(10)[y_train]  # Преобразование меток в one-hot\n",
        "    return x_train, y_train\n",
        "\n",
        "# Нейронная сеть\n",
        "class SimpleNN:\n",
        "    def __init__(self, input_size, hidden_size, output_size, learning_rate=0.001, lambda_reg=0.01):\n",
        "        self.w1 = np.random.randn(hidden_size, input_size) * 0.01 # Инициализация с меньшими весами\n",
        "        self.b1 = np.zeros((hidden_size, 1))  # Инициализация смещения для первого слоя\n",
        "        self.w2 = np.random.randn(output_size, hidden_size) * 0.01 # Инициализация с меньшими весами\n",
        "        self.b2 = np.zeros((output_size, 1))  # Инициализация смещения для второго слоя\n",
        "        self.learning_rate = learning_rate\n",
        "        self.lambda_reg = lambda_reg\n",
        "\n",
        "    def forward(self, x):\n",
        "        self.l1 = np.dot(self.w1, x) + self.b1\n",
        "        self.y = relu(self.l1)\n",
        "        self.l2 = np.dot(self.w2, self.y) + self.b2\n",
        "        self.out = relu(self.l2)  # Можно использовать softmax для классификации\n",
        "        return self.out\n",
        "\n",
        "    def backward(self, x, target):\n",
        "        e = self.out - target\n",
        "\n",
        "        delta2 = e * drelu(self.l2)  # Градиент на выходе\n",
        "        grad_w2 = np.dot(delta2, self.y.T) + self.lambda_reg * self.w2  # Градиент для w2\n",
        "        grad_b2 = np.sum(delta2, axis=1, keepdims=True) # Градиент для b2\n",
        "\n",
        "        delta1 = np.dot(self.w2.T, delta2) * drelu(self.l1) # Градиент для скрытого слоя\n",
        "        grad_w1 = np.dot(delta1, x.T) + self.lambda_reg * self.w1  # Градиент для w1\n",
        "        grad_b1 = np.sum(delta1, axis=1, keepdims=True) # Градиент для b1\n",
        "\n",
        "        # Обновление весов и смещений\n",
        "        self.w2 -= self.learning_rate * grad_w2\n",
        "        self.b2 -= self.learning_rate * grad_b2\n",
        "        self.w1 -= self.learning_rate * grad_w1\n",
        "        self.b1 -= self.learning_rate * grad_b1\n",
        "\n",
        "    def train(self, x_train, y_train, epochs=5, batch_size=32):\n",
        "        for epoch in range(epochs):\n",
        "            print(f'Epoch {epoch + 1}/{epochs}')\n",
        "            indices = np.arange(x_train.shape[0])\n",
        "            np.random.shuffle(indices)  # Перемешивание данных\n",
        "            for start in range(0, x_train.shape[0], batch_size):\n",
        "                end = min(start + batch_size, x_train.shape[0])\n",
        "                batch_indices = indices[start:end]\n",
        "\n",
        "                for i in batch_indices:\n",
        "                    img = x_train[i].reshape(-1, 1)\n",
        "                    value = y_train[i].reshape(-1, 1)\n",
        "\n",
        "                    self.forward(img)\n",
        "                    self.backward(img, value)\n",
        "# Основной код\n",
        "input_data, target_data = load_dataset()\n",
        "nn = SimpleNN(input_size=784, hidden_size=50, output_size=10)\n",
        "\n",
        "# Обучение модели\n",
        "nn.train(input_data, target_data, epochs=5, batch_size=32)\n",
        "\n",
        "# Тестирование на случайном изображении\n",
        "i = np.random.randint(0, input_data.shape[0])\n",
        "tempimg = input_data[i]\n",
        "tempvalue = target_data[i]\n",
        "\n",
        "img = tempimg.reshape(-1, 1)\n",
        "out = nn.forward(img)\n",
        "\n",
        "plt.imshow(tempimg.reshape(28, 28), cmap=\"Greys\")\n",
        "plt.title(f'Predicted: {out.argmax()}')\n",
        "plt.show()\n",
        "\n",
        "print(out)\n"
      ],
      "metadata": {
        "colab": {
          "base_uri": "https://localhost:8080/",
          "height": 712
        },
        "id": "nIsNvWtgJ61x",
        "outputId": "c0b7334c-9afc-44a9-bc10-328e738bca88"
      },
      "execution_count": 5,
      "outputs": [
        {
          "output_type": "stream",
          "name": "stdout",
          "text": [
            "Epoch 1/5\n",
            "Epoch 2/5\n",
            "Epoch 3/5\n",
            "Epoch 4/5\n",
            "Epoch 5/5\n"
          ]
        },
        {
          "output_type": "display_data",
          "data": {
            "text/plain": [
              "<Figure size 640x480 with 1 Axes>"
            ],
            "image/png": "[encoded data removed]"
          },
          "metadata": {}
        },
        {
          "output_type": "stream",
          "name": "stdout",
          "text": [
            "[[0.06670782]\n",
            " [0.        ]\n",
            " [0.        ]\n",
            " [0.        ]\n",
            " [0.        ]\n",
            " [0.        ]\n",
            " [0.        ]\n",
            " [0.67920083]\n",
            " [0.        ]\n",
            " [0.23673841]]\n"
          ]
        }
      ]
    }
  ]
}