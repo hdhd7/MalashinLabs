{
  "nbformat": 4,
  "nbformat_minor": 0,
  "metadata": {
    "colab": {
      "provenance": [],
      "authorship_tag": "ABX9TyN9PxzEbesEF7gTdTc4s25D",
      "include_colab_link": true
    },
    "kernelspec": {
      "name": "python3",
      "display_name": "Python 3"
    },
    "language_info": {
      "name": "python"
    }
  },
  "cells": [
    {
      "cell_type": "markdown",
      "metadata": {
        "id": "view-in-github",
        "colab_type": "text"
      },
      "source": [
        "<a href=\"https://colab.research.google.com/github/hdhd7/MalashinLabs/blob/main/lab7.ipynb\" target=\"_parent\"><img src=\"https://colab.research.google.com/assets/colab-badge.svg\" alt=\"Open In Colab\"/></a>"
      ]
    },
    {
      "cell_type": "code",
      "execution_count": 4,
      "metadata": {
        "colab": {
          "base_uri": "https://localhost:8080/"
        },
        "id": "B0mLC9E7M_84",
        "outputId": "d97d766e-327c-4315-ca28-f178e096b351"
      },
      "outputs": [
        {
          "output_type": "stream",
          "name": "stdout",
          "text": [
            "26 41 3\n",
            "Корни дискриминанта:\n",
            "(-0.07692307692307693, -1.5)\n",
            "3 19 9\n",
            "Корень итерационного метода:\n",
            "-0.44273463795128587\n",
            "41 13 28 13\n",
            "Корень метода бисекции:\n",
            "0.4326200485229492\n"
          ]
        }
      ],
      "source": [
        "import random\n",
        "\n",
        "# Метод дискриминанта\n",
        "def Desk(a, b, c):\n",
        "    D = b ** 2 - 4 * a * c\n",
        "    if D < 0:\n",
        "        return None\n",
        "    elif D == 0:\n",
        "        x = -b / (2 * a)\n",
        "        return x\n",
        "    else:\n",
        "        x1 = (-b + (D)**0.5) / (2 * a)\n",
        "        x2 = (-b - (D)**0.5) / (2 * a)\n",
        "        return x1, x2\n",
        "\n",
        "a, b, c = random.randrange(1, 45), random.randrange(1, 45), random.randrange(1, 45)\n",
        "W = Desk(a, b, c)\n",
        "print(a, b, c)\n",
        "print('Корни дискриминанта:')\n",
        "if W is not None:\n",
        "    print(W)\n",
        "else:\n",
        "    print('Корни не найдены (меньше нуля)')\n",
        "\n",
        "# Итерационный метод\n",
        "def N(f, f1, x0, t=1e-6, max_iter=100): # t - порог для остановки(точность)\n",
        "    x = x0 # изначальное значение х\n",
        "    ic = 0 # счетчик количества итераций\n",
        "    while abs(f(x)) > t or ic < max_iter: # Выполняем, пока значение функции не приблизится к нулю(к точности) или не выполнится\n",
        "        x = x - f(x) / f1(x)              # максимальное количество итераций\n",
        "        ic += 1\n",
        "    if abs(f(x)) <= t: # Если значение приблизилось к нулю, то возвращаем значение корня\n",
        "        return x\n",
        "    else:\n",
        "        return None  # Не удалось найти корень за максимальное количество итераций\n",
        "\n",
        "a, b, c = random.randrange(1, 45), random.randrange(1, 45), random.randrange(1, 45)\n",
        "def funcsh(x):\n",
        "    return a * x ** 2 - b * x - c\n",
        "\n",
        "def proizfuncsh(x):\n",
        "    return 2 * a * x - b\n",
        "\n",
        "y = N(funcsh, proizfuncsh, x0=0)\n",
        "\n",
        "print(a, b, c)\n",
        "print('Корень итерационного метода:')\n",
        "if y is not None:\n",
        "    print(y)\n",
        "else:\n",
        "    print('Корень не найден')\n",
        "\n",
        "# Метод бисекции(метод деления отрезка пополам, где корень уравнения предположительно на интервале [a, b])\n",
        "def B(f, a, b, t=1e-6, max_iter=100): #t - порог для остановки(точность)\n",
        "    if f(a) * f(b) > 0: # если значение функции на концах интервала имеют одинаковый знак,\n",
        "        return None     # то начальные значения не обеспечивают наличие корня\n",
        "    ic = 0 #счетчик количества итераций\n",
        "    while (b - a) / 2 > t and ic < max_iter: # проверка на точность и на количество итераций\n",
        "        c = (a + b) / 2 # делим пополам на каждом шаге, затем выбираем подинтервал [a, b], в котором меняется знак функции\n",
        "        if f(c) == 0: # проверка знаков функции на концах отрезков (приблизительный корень не будет равен или больше зад. точн)\n",
        "            return c\n",
        "        elif f(c) * f(a) < 0:\n",
        "            b = c\n",
        "        else:\n",
        "            a = c\n",
        "        ic += 1\n",
        "    return (a + b) / 2 # середина текущего интервала, которая приближенно равняется корню уравнения в пределах данной точности\n",
        "\n",
        "p = random.randrange(1, 45)\n",
        "r = random.randrange(1, 45)\n",
        "s = random.randrange(1, 45)\n",
        "m = random.randrange(1, 45)\n",
        "def cubf(x):\n",
        "    return p*x ** 3 - r * x ** 2 + s * x - m # f(x) = px^3 - rx^2 + s*x - m\n",
        "\n",
        "o = B(cubf, a=0, b=4) #поиск корня на интервале от 0 до 4\n",
        "\n",
        "print (p, r, s, m)\n",
        "print('Корень метода бисекции:')\n",
        "if o is not None:\n",
        "    print(o)\n",
        "else:\n",
        "    print('Корень не найден на интервале от 0 до 4')"
      ]
    }
  ]
}