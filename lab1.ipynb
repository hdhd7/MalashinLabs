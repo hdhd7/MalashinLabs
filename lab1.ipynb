{
  "nbformat": 4,
  "nbformat_minor": 0,
  "metadata": {
    "colab": {
      "provenance": [],
      "authorship_tag": "ABX9TyOtNKRs4tW1tM7xeHw6UXYT",
      "include_colab_link": true
    },
    "kernelspec": {
      "name": "python3",
      "display_name": "Python 3"
    },
    "language_info": {
      "name": "python"
    }
  },
  "cells": [
    {
      "cell_type": "markdown",
      "metadata": {
        "id": "view-in-github",
        "colab_type": "text"
      },
      "source": [
        "<a href=\"https://colab.research.google.com/github/hdhd7/MalashinLabs/blob/main/lab1.ipynb\" target=\"_parent\"><img src=\"https://colab.research.google.com/assets/colab-badge.svg\" alt=\"Open In Colab\"/></a>"
      ]
    },
    {
      "cell_type": "code",
      "execution_count": 1,
      "metadata": {
        "colab": {
          "base_uri": "https://localhost:8080/"
        },
        "id": "tNfcyJYuAjjY",
        "outputId": "5ecf6799-31ac-44d0-d158-33b0af84cea3"
      },
      "outputs": [
        {
          "output_type": "stream",
          "name": "stdout",
          "text": [
            "x(в градусах) = 7\n",
            "погрешность = 0.5\n",
            "1.0315638476746383\n"
          ]
        }
      ],
      "source": [
        "# e^(2/(5 - cos(x))**3)\n",
        "import math\n",
        "#функция для деления\n",
        "def drob (x, k):\n",
        "    q, s, n = 1, 0, 1\n",
        "    while abs(q) > k:\n",
        "        s += q\n",
        "        q *= x * (n + 1) / n\n",
        "        n += 1\n",
        "    return s\n",
        "#фунция для косинуса\n",
        "def cosinus (x, k):\n",
        "    x = x / 180 * math.pi\n",
        "    q, s, i = x, 0, 1\n",
        "    while abs(q) > k:\n",
        "        s += q\n",
        "        q *= (-1) * (x * x) / ((2 * i + 1) * (2 * i))\n",
        "        i += 1\n",
        "    return s\n",
        "#фунция для экспоненты\n",
        "def e (x, k):\n",
        "    q, s, n = 1, 0, 1\n",
        "    while abs(q) > k:\n",
        "        s += q\n",
        "        q *= x / n\n",
        "        n += 1\n",
        "    return s\n",
        "x, k = float(input(\"x(в градусах) = \")), float(input(\"погрешность = \"))\n",
        "print(math.e**(2.0/(5.0 - math.cos(x/180*math.pi))**3))"
      ]
    }
  ]
}