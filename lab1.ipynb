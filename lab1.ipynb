{
 "cells": [
  {
   "cell_type": "code",
   "execution_count": 3,
   "id": "51c844ad",
   "metadata": {},
   "outputs": [
    {
     "name": "stdout",
     "output_type": "stream",
     "text": [
      "x(в градусах) = 7\n",
      "погрешность = 0.5\n",
      "1.0315638476746383\n"
     ]
    }
   ],
   "source": [
    "# e^(2/(5 - cos(x))**3)\n",
    "import math\n",
    "#функция для деления\n",
    "def drob (x, k):\n",
    "    q, s, n = 1, 0, 1\n",
    "    while abs(q) > k:\n",
    "        s += q\n",
    "        q *= x * (n + 1) / n\n",
    "        n += 1\n",
    "    return s\n",
    "#фунция для косинуса\n",
    "def cosinus (x, k):\n",
    "    x = x / 180 * math.pi\n",
    "    q, s, i = x, 0, 1\n",
    "    while abs(q) > k:\n",
    "        s += q\n",
    "        q *= (-1) * (x * x) / ((2 * i + 1) * (2 * i))\n",
    "        i += 1\n",
    "    return s\n",
    "#фунция для экспоненты\n",
    "def e (x, k):\n",
    "    q, s, n = 1, 0, 1\n",
    "    while abs(q) > k:\n",
    "        s += q\n",
    "        q *= x / n\n",
    "        n += 1\n",
    "    return s\n",
    "x, k = float(input(\"x(в градусах) = \")), float(input(\"погрешность = \"))\n",
    "print(math.e**(2.0/(5.0 - math.cos(x/180*math.pi))**3))"
   ]
  }
 ],
 "metadata": {
  "kernelspec": {
   "display_name": "Python 3 (ipykernel)",
   "language": "python",
   "name": "python3"
  },
  "language_info": {
   "codemirror_mode": {
    "name": "ipython",
    "version": 3
   },
   "file_extension": ".py",
   "mimetype": "text/x-python",
   "name": "python",
   "nbconvert_exporter": "python",
   "pygments_lexer": "ipython3",
   "version": "3.11.4"
  }
 },
 "nbformat": 4,
 "nbformat_minor": 5
}
